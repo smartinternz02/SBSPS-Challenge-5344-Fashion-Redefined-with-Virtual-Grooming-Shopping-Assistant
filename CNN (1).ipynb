{
 "cells": [
  {
   "cell_type": "code",
   "execution_count": 167,
   "id": "a56a4dc2",
   "metadata": {},
   "outputs": [
    {
     "data": {
      "text/plain": [
       "'C:\\\\Users\\\\bhavna'"
      ]
     },
     "execution_count": 167,
     "metadata": {},
     "output_type": "execute_result"
    }
   ],
   "source": [
    "pwd"
   ]
  },
  {
   "cell_type": "code",
   "execution_count": 168,
   "id": "42e28d41",
   "metadata": {},
   "outputs": [
    {
     "name": "stdout",
     "output_type": "stream",
     "text": [
      "Requirement already satisfied: keras==2.2.4 in c:\\users\\bhavna\\anaconda3\\anaconda3\\lib\\site-packages (2.2.4)\n",
      "Requirement already satisfied: six>=1.9.0 in c:\\users\\bhavna\\anaconda3\\anaconda3\\lib\\site-packages (from keras==2.2.4) (1.15.0)\n",
      "Requirement already satisfied: h5py in c:\\users\\bhavna\\anaconda3\\anaconda3\\lib\\site-packages (from keras==2.2.4) (3.1.0)\n",
      "Requirement already satisfied: numpy>=1.9.1 in c:\\users\\bhavna\\anaconda3\\anaconda3\\lib\\site-packages (from keras==2.2.4) (1.19.5)\n",
      "Requirement already satisfied: keras-preprocessing>=1.0.5 in c:\\users\\bhavna\\anaconda3\\anaconda3\\lib\\site-packages (from keras==2.2.4) (1.1.2)\n",
      "Requirement already satisfied: pyyaml in c:\\users\\bhavna\\anaconda3\\anaconda3\\lib\\site-packages (from keras==2.2.4) (5.4.1)\n",
      "Requirement already satisfied: keras-applications>=1.0.6 in c:\\users\\bhavna\\anaconda3\\anaconda3\\lib\\site-packages (from keras==2.2.4) (1.0.8)\n",
      "Requirement already satisfied: scipy>=0.14 in c:\\users\\bhavna\\anaconda3\\anaconda3\\lib\\site-packages (from keras==2.2.4) (1.6.2)\n"
     ]
    },
    {
     "name": "stderr",
     "output_type": "stream",
     "text": [
      "ERROR: Could not find a version that satisfies the requirement tensorflow==1.14.0\n",
      "ERROR: No matching distribution found for tensorflow==1.14.0\n"
     ]
    }
   ],
   "source": [
    "!pip install keras==2.2.4\n",
    "!pip install tensorflow==1.14.0"
   ]
  },
  {
   "cell_type": "code",
   "execution_count": 169,
   "id": "837b0f61",
   "metadata": {},
   "outputs": [],
   "source": [
    "from tensorflow.keras.models import Sequential\n",
    "from tensorflow.keras.layers import Dense\n",
    "from tensorflow.keras.layers import Convolution2D\n",
    "from tensorflow.keras.layers import MaxPooling2D\n",
    "from tensorflow.keras.layers import Flatten\n",
    "\n"
   ]
  },
  {
   "cell_type": "code",
   "execution_count": 170,
   "id": "0104675c",
   "metadata": {},
   "outputs": [],
   "source": [
    "from tensorflow.keras.preprocessing.image import ImageDataGenerator\n",
    "train_datagen = ImageDataGenerator(rescale = 1./255,shear_range = 0.3,zoom_range = 0.4,horizontal_flip = True)\n",
    "test_datagen = ImageDataGenerator(rescale = 1./255)\n"
   ]
  },
  {
   "cell_type": "code",
   "execution_count": 171,
   "id": "15661c39",
   "metadata": {},
   "outputs": [
    {
     "name": "stdout",
     "output_type": "stream",
     "text": [
      "Found 280 images belonging to 4 classes.\n",
      "Found 120 images belonging to 4 classes.\n"
     ]
    }
   ],
   "source": [
    "x_train = train_datagen.flow_from_directory(r\"C:\\Users\\bhavna\\Documents\\Dataset\\trainset\",target_size = (64,64),batch_size = 32, class_mode = \"categorical\")\n",
    "x_test  = test_datagen.flow_from_directory(r\"C:\\Users\\bhavna\\Documents\\Dataset\\testset\",target_size = (64,64),batch_size = 32, class_mode = \"categorical\")"
   ]
  },
  {
   "cell_type": "code",
   "execution_count": 172,
   "id": "784766ce",
   "metadata": {},
   "outputs": [
    {
     "data": {
      "text/plain": [
       "{'jeans': 0, \"men's wear\": 1, 'shoes': 2, \"women's wear\": 3}"
      ]
     },
     "execution_count": 172,
     "metadata": {},
     "output_type": "execute_result"
    }
   ],
   "source": [
    "x_train.class_indices"
   ]
  },
  {
   "cell_type": "code",
   "execution_count": 173,
   "id": "1f684912",
   "metadata": {},
   "outputs": [],
   "source": [
    "model = Sequential()"
   ]
  },
  {
   "cell_type": "code",
   "execution_count": 174,
   "id": "a154a51a",
   "metadata": {},
   "outputs": [],
   "source": [
    "model.add(Convolution2D(32, (3,3), input_shape = (64,64,3),activation=\"relu\"))"
   ]
  },
  {
   "cell_type": "code",
   "execution_count": 175,
   "id": "10d6c782",
   "metadata": {},
   "outputs": [],
   "source": [
    "model.add(MaxPooling2D(pool_size = (2,2)))"
   ]
  },
  {
   "cell_type": "code",
   "execution_count": 176,
   "id": "4ee0bf64",
   "metadata": {},
   "outputs": [],
   "source": [
    "model.add(Flatten())"
   ]
  },
  {
   "cell_type": "code",
   "execution_count": 177,
   "id": "722e901d",
   "metadata": {},
   "outputs": [],
   "source": [
    "model.add(Dense(units = 128, kernel_initializer= \"random_uniform\", activation= \"relu\"))"
   ]
  },
  {
   "cell_type": "code",
   "execution_count": 178,
   "id": "c31f2fff",
   "metadata": {},
   "outputs": [],
   "source": [
    "model.add(Dense(units = 4 , kernel_initializer = \"uniform\", activation = \"softmax\" ))"
   ]
  },
  {
   "cell_type": "code",
   "execution_count": 179,
   "id": "b718857b",
   "metadata": {},
   "outputs": [],
   "source": [
    "model.compile(loss = \"categorical_crossentropy\",optimizer = \"adam\", metrics= [\"accuracy\"] )"
   ]
  },
  {
   "cell_type": "code",
   "execution_count": 180,
   "id": "a0032a76",
   "metadata": {},
   "outputs": [
    {
     "name": "stderr",
     "output_type": "stream",
     "text": [
      "C:\\Users\\bhavna\\AppData\\Roaming\\Python\\Python38\\site-packages\\tensorflow\\python\\keras\\engine\\training.py:1935: UserWarning: `Model.fit_generator` is deprecated and will be removed in a future version. Please use `Model.fit`, which supports generators.\n",
      "  warnings.warn('`Model.fit_generator` is deprecated and '\n"
     ]
    },
    {
     "name": "stdout",
     "output_type": "stream",
     "text": [
      "Epoch 1/25\n",
      " 9/46 [====>.........................] - ETA: 8s - loss: 1.4349 - accuracy: 0.2786WARNING:tensorflow:Your input ran out of data; interrupting training. Make sure that your dataset or generator can generate at least `steps_per_epoch * epochs` batches (in this case, 1150 batches). You may need to use the repeat() function when building your dataset.\n",
      "46/46 [==============================] - 4s 55ms/step - loss: 1.4349 - accuracy: 0.2786 - val_loss: 1.1709 - val_accuracy: 0.4375\n"
     ]
    },
    {
     "data": {
      "text/plain": [
       "<tensorflow.python.keras.callbacks.History at 0x1e010263730>"
      ]
     },
     "execution_count": 180,
     "metadata": {},
     "output_type": "execute_result"
    }
   ],
   "source": [
    "model.fit_generator(x_train, steps_per_epoch = 46,epochs = 25,validation_data = x_test,validation_steps = 3)"
   ]
  },
  {
   "cell_type": "code",
   "execution_count": 181,
   "id": "3999aef7",
   "metadata": {},
   "outputs": [],
   "source": [
    "model.save(\"trendy.h5\")"
   ]
  },
  {
   "cell_type": "code",
   "execution_count": 182,
   "id": "1126b104",
   "metadata": {},
   "outputs": [
    {
     "name": "stdout",
     "output_type": "stream",
     "text": [
      "Requirement already satisfied: watson-machine-learning-client in c:\\users\\bhavna\\anaconda3\\anaconda3\\lib\\site-packages (1.0.391)\n",
      "Requirement already satisfied: ibm-cos-sdk in c:\\users\\bhavna\\anaconda3\\anaconda3\\lib\\site-packages (from watson-machine-learning-client) (2.7.0)\n",
      "Requirement already satisfied: tabulate in c:\\users\\bhavna\\anaconda3\\anaconda3\\lib\\site-packages (from watson-machine-learning-client) (0.8.9)\n",
      "Requirement already satisfied: pandas in c:\\users\\bhavna\\anaconda3\\anaconda3\\lib\\site-packages (from watson-machine-learning-client) (1.2.4)\n",
      "Requirement already satisfied: urllib3 in c:\\users\\bhavna\\anaconda3\\anaconda3\\lib\\site-packages (from watson-machine-learning-client) (1.26.4)\n",
      "Requirement already satisfied: tqdm in c:\\users\\bhavna\\anaconda3\\anaconda3\\lib\\site-packages (from watson-machine-learning-client) (4.59.0)\n",
      "Requirement already satisfied: lomond in c:\\users\\bhavna\\anaconda3\\anaconda3\\lib\\site-packages (from watson-machine-learning-client) (0.3.3)\n",
      "Requirement already satisfied: certifi in c:\\users\\bhavna\\anaconda3\\anaconda3\\lib\\site-packages (from watson-machine-learning-client) (2020.12.5)\n",
      "Requirement already satisfied: requests in c:\\users\\bhavna\\anaconda3\\anaconda3\\lib\\site-packages (from watson-machine-learning-client) (2.25.1)\n",
      "Requirement already satisfied: boto3 in c:\\users\\bhavna\\anaconda3\\anaconda3\\lib\\site-packages (from watson-machine-learning-client) (1.18.24)\n",
      "Requirement already satisfied: s3transfer<0.6.0,>=0.5.0 in c:\\users\\bhavna\\anaconda3\\anaconda3\\lib\\site-packages (from boto3->watson-machine-learning-client) (0.5.0)\n",
      "Requirement already satisfied: botocore<1.22.0,>=1.21.24 in c:\\users\\bhavna\\anaconda3\\anaconda3\\lib\\site-packages (from boto3->watson-machine-learning-client) (1.21.24)\n",
      "Requirement already satisfied: jmespath<1.0.0,>=0.7.1 in c:\\users\\bhavna\\anaconda3\\anaconda3\\lib\\site-packages (from boto3->watson-machine-learning-client) (0.10.0)\n",
      "Requirement already satisfied: python-dateutil<3.0.0,>=2.1 in c:\\users\\bhavna\\anaconda3\\anaconda3\\lib\\site-packages (from botocore<1.22.0,>=1.21.24->boto3->watson-machine-learning-client) (2.8.1)\n",
      "Requirement already satisfied: six>=1.5 in c:\\users\\bhavna\\anaconda3\\anaconda3\\lib\\site-packages (from python-dateutil<3.0.0,>=2.1->botocore<1.22.0,>=1.21.24->boto3->watson-machine-learning-client) (1.15.0)\n",
      "Requirement already satisfied: ibm-cos-sdk-s3transfer==2.7.0 in c:\\users\\bhavna\\anaconda3\\anaconda3\\lib\\site-packages (from ibm-cos-sdk->watson-machine-learning-client) (2.7.0)\n",
      "Requirement already satisfied: ibm-cos-sdk-core==2.7.0 in c:\\users\\bhavna\\anaconda3\\anaconda3\\lib\\site-packages (from ibm-cos-sdk->watson-machine-learning-client) (2.7.0)\n",
      "Requirement already satisfied: docutils<0.16,>=0.10 in c:\\users\\bhavna\\anaconda3\\anaconda3\\lib\\site-packages (from ibm-cos-sdk-core==2.7.0->ibm-cos-sdk->watson-machine-learning-client) (0.15.2)\n",
      "Requirement already satisfied: idna<3,>=2.5 in c:\\users\\bhavna\\anaconda3\\anaconda3\\lib\\site-packages (from requests->watson-machine-learning-client) (2.10)\n",
      "Requirement already satisfied: chardet<5,>=3.0.2 in c:\\users\\bhavna\\anaconda3\\anaconda3\\lib\\site-packages (from requests->watson-machine-learning-client) (4.0.0)\n",
      "Requirement already satisfied: numpy>=1.16.5 in c:\\users\\bhavna\\anaconda3\\anaconda3\\lib\\site-packages (from pandas->watson-machine-learning-client) (1.19.5)\n",
      "Requirement already satisfied: pytz>=2017.3 in c:\\users\\bhavna\\anaconda3\\anaconda3\\lib\\site-packages (from pandas->watson-machine-learning-client) (2021.1)\n"
     ]
    }
   ],
   "source": [
    "!pip install watson-machine-learning-client"
   ]
  },
  {
   "cell_type": "code",
   "execution_count": 183,
   "id": "54309953",
   "metadata": {},
   "outputs": [],
   "source": [
    "#replace the credentials that you got from watson-machine-learning service\n",
    "from ibm_watson_machine_learning import APIClient\n",
    "url_credentials = {\n",
    "                     \"url\": \"https://eu-gb.ml.cloud.ibm.com\",\n",
    "                  \"apikey\":\"wDgLzjeNHttHKqeMXuqpTjbBBLdLf-JOsKyf1uOhI1Ec\"\n",
    "}\n",
    "client = APIClient(url_credentials)"
   ]
  },
  {
   "cell_type": "code",
   "execution_count": 184,
   "id": "a70795ce",
   "metadata": {},
   "outputs": [],
   "source": [
    "client = APIClient(url_credentials)"
   ]
  },
  {
   "cell_type": "code",
   "execution_count": 185,
   "id": "02534872",
   "metadata": {},
   "outputs": [],
   "source": [
    "def guid_from_space_name(client, space_name):\n",
    "    space = client.spaces.get_details()\n",
    "    # print (space)\n",
    "    return(next(item for item in space['resources'] if item['entity'][\"name\"] == space_name)['metadata']['id'])"
   ]
  },
  {
   "cell_type": "code",
   "execution_count": 186,
   "id": "33ac11e8",
   "metadata": {},
   "outputs": [
    {
     "name": "stdout",
     "output_type": "stream",
     "text": [
      "Space UID = 18f611be-e5ba-44ac-8597-d68f243f3af8\n"
     ]
    }
   ],
   "source": [
    "space_uid = guid_from_space_name(client,'imageclassification')\n",
    "print(\"Space UID = \" + space_uid)"
   ]
  },
  {
   "cell_type": "code",
   "execution_count": 187,
   "id": "f4da6599",
   "metadata": {},
   "outputs": [
    {
     "data": {
      "text/plain": [
       "'SUCCESS'"
      ]
     },
     "execution_count": 187,
     "metadata": {},
     "output_type": "execute_result"
    }
   ],
   "source": [
    "client.set.default_space(space_uid)"
   ]
  },
  {
   "cell_type": "code",
   "execution_count": 188,
   "id": "6d2c2071",
   "metadata": {},
   "outputs": [
    {
     "name": "stderr",
     "output_type": "stream",
     "text": [
      "File with name: 'trendy.tar.gz' already exists.\n"
     ]
    },
    {
     "ename": "WMLClientError",
     "evalue": "File with name: 'trendy.tar.gz' already exists.",
     "output_type": "error",
     "traceback": [
      "\u001b[1;31m---------------------------------------------------------------------------\u001b[0m",
      "\u001b[1;31mWMLClientError\u001b[0m                            Traceback (most recent call last)",
      "\u001b[1;32m<ipython-input-188-de89dcbc7a80>\u001b[0m in \u001b[0;36m<module>\u001b[1;34m\u001b[0m\n\u001b[1;32m----> 1\u001b[1;33m \u001b[0mclient\u001b[0m\u001b[1;33m.\u001b[0m\u001b[0mrepository\u001b[0m\u001b[1;33m.\u001b[0m\u001b[0mdownload\u001b[0m\u001b[1;33m(\u001b[0m\u001b[1;34m\"7913131c-e4ac-41f6-ae7c-8a982dc7f8a2\"\u001b[0m\u001b[1;33m,\u001b[0m\u001b[1;34m'trendy.tar.gz'\u001b[0m\u001b[1;33m)\u001b[0m\u001b[1;33m\u001b[0m\u001b[1;33m\u001b[0m\u001b[0m\n\u001b[0m",
      "\u001b[1;32m~\\anaconda3\\Anaconda3\\lib\\site-packages\\ibm_watson_machine_learning\\repository.py\u001b[0m in \u001b[0;36mdownload\u001b[1;34m(self, artifact_uid, filename, rev_uid, format)\u001b[0m\n\u001b[0;32m    898\u001b[0m \u001b[1;33m\u001b[0m\u001b[0m\n\u001b[0;32m    899\u001b[0m         \u001b[1;32mif\u001b[0m \u001b[0mres\u001b[0m\u001b[1;33m[\u001b[0m\u001b[1;34m'model'\u001b[0m\u001b[1;33m]\u001b[0m \u001b[1;32mis\u001b[0m \u001b[1;32mTrue\u001b[0m\u001b[1;33m:\u001b[0m\u001b[1;33m\u001b[0m\u001b[1;33m\u001b[0m\u001b[0m\n\u001b[1;32m--> 900\u001b[1;33m             \u001b[1;32mreturn\u001b[0m \u001b[0mself\u001b[0m\u001b[1;33m.\u001b[0m\u001b[0m_client\u001b[0m\u001b[1;33m.\u001b[0m\u001b[0m_models\u001b[0m\u001b[1;33m.\u001b[0m\u001b[0mdownload\u001b[0m\u001b[1;33m(\u001b[0m\u001b[0martifact_uid\u001b[0m\u001b[1;33m,\u001b[0m \u001b[0mfilename\u001b[0m\u001b[1;33m,\u001b[0m \u001b[0mrev_uid\u001b[0m\u001b[1;33m,\u001b[0m\u001b[0mformat\u001b[0m\u001b[1;33m)\u001b[0m\u001b[1;33m\u001b[0m\u001b[1;33m\u001b[0m\u001b[0m\n\u001b[0m\u001b[0;32m    901\u001b[0m         \u001b[1;32melif\u001b[0m \u001b[0mres\u001b[0m\u001b[1;33m[\u001b[0m\u001b[1;34m'function'\u001b[0m\u001b[1;33m]\u001b[0m \u001b[1;32mis\u001b[0m \u001b[1;32mTrue\u001b[0m\u001b[1;33m:\u001b[0m\u001b[1;33m\u001b[0m\u001b[1;33m\u001b[0m\u001b[0m\n\u001b[0;32m    902\u001b[0m             \u001b[1;32mreturn\u001b[0m \u001b[0mself\u001b[0m\u001b[1;33m.\u001b[0m\u001b[0m_client\u001b[0m\u001b[1;33m.\u001b[0m\u001b[0m_functions\u001b[0m\u001b[1;33m.\u001b[0m\u001b[0mdownload\u001b[0m\u001b[1;33m(\u001b[0m\u001b[0martifact_uid\u001b[0m\u001b[1;33m,\u001b[0m \u001b[0mfilename\u001b[0m\u001b[1;33m,\u001b[0m \u001b[0mrev_uid\u001b[0m\u001b[1;33m)\u001b[0m\u001b[1;33m\u001b[0m\u001b[1;33m\u001b[0m\u001b[0m\n",
      "\u001b[1;32m~\\anaconda3\\Anaconda3\\lib\\site-packages\\ibm_watson_machine_learning\\models.py\u001b[0m in \u001b[0;36mdownload\u001b[1;34m(self, model_uid, filename, rev_uid, format)\u001b[0m\n\u001b[0;32m   1691\u001b[0m         \"\"\"\n\u001b[0;32m   1692\u001b[0m         \u001b[1;32mif\u001b[0m \u001b[0mos\u001b[0m\u001b[1;33m.\u001b[0m\u001b[0mpath\u001b[0m\u001b[1;33m.\u001b[0m\u001b[0misfile\u001b[0m\u001b[1;33m(\u001b[0m\u001b[0mfilename\u001b[0m\u001b[1;33m)\u001b[0m\u001b[1;33m:\u001b[0m\u001b[1;33m\u001b[0m\u001b[1;33m\u001b[0m\u001b[0m\n\u001b[1;32m-> 1693\u001b[1;33m             \u001b[1;32mraise\u001b[0m \u001b[0mWMLClientError\u001b[0m\u001b[1;33m(\u001b[0m\u001b[1;34mu'File with name: \\'{}\\' already exists.'\u001b[0m\u001b[1;33m.\u001b[0m\u001b[0mformat\u001b[0m\u001b[1;33m(\u001b[0m\u001b[0mfilename\u001b[0m\u001b[1;33m)\u001b[0m\u001b[1;33m)\u001b[0m\u001b[1;33m\u001b[0m\u001b[1;33m\u001b[0m\u001b[0m\n\u001b[0m\u001b[0;32m   1694\u001b[0m         \u001b[1;32mif\u001b[0m \u001b[0mrev_uid\u001b[0m \u001b[1;32mis\u001b[0m \u001b[1;32mnot\u001b[0m \u001b[1;32mNone\u001b[0m \u001b[1;32mand\u001b[0m \u001b[0mself\u001b[0m\u001b[1;33m.\u001b[0m\u001b[0m_client\u001b[0m\u001b[1;33m.\u001b[0m\u001b[0mICP_30\u001b[0m \u001b[1;32mis\u001b[0m \u001b[1;32mNone\u001b[0m \u001b[1;32mand\u001b[0m \u001b[1;32mnot\u001b[0m \u001b[0mself\u001b[0m\u001b[1;33m.\u001b[0m\u001b[0m_client\u001b[0m\u001b[1;33m.\u001b[0m\u001b[0mCLOUD_PLATFORM_SPACES\u001b[0m\u001b[0;31m\\\u001b[0m\u001b[1;33m\u001b[0m\u001b[1;33m\u001b[0m\u001b[0m\n\u001b[0;32m   1695\u001b[0m                 \u001b[1;32mand\u001b[0m \u001b[0mself\u001b[0m\u001b[1;33m.\u001b[0m\u001b[0m_client\u001b[0m\u001b[1;33m.\u001b[0m\u001b[0mICP_35\u001b[0m \u001b[1;32mis\u001b[0m \u001b[1;32mNone\u001b[0m \u001b[1;32mand\u001b[0m \u001b[0mself\u001b[0m\u001b[1;33m.\u001b[0m\u001b[0m_client\u001b[0m\u001b[1;33m.\u001b[0m\u001b[0mICP_40\u001b[0m \u001b[1;32mis\u001b[0m \u001b[1;32mNone\u001b[0m\u001b[1;33m:\u001b[0m\u001b[1;33m\u001b[0m\u001b[1;33m\u001b[0m\u001b[0m\n",
      "\u001b[1;31mWMLClientError\u001b[0m: File with name: 'trendy.tar.gz' already exists."
     ]
    }
   ],
   "source": [
    "client.repository.download(\"7913131c-e4ac-41f6-ae7c-8a982dc7f8a2\",'trendy.tar.gz')"
   ]
  },
  {
   "cell_type": "code",
   "execution_count": null,
   "id": "58171f16",
   "metadata": {},
   "outputs": [],
   "source": []
  },
  {
   "cell_type": "code",
   "execution_count": null,
   "id": "ea1da38b",
   "metadata": {
    "scrolled": false
   },
   "outputs": [],
   "source": []
  },
  {
   "cell_type": "code",
   "execution_count": null,
   "id": "51705b55",
   "metadata": {},
   "outputs": [],
   "source": []
  },
  {
   "cell_type": "code",
   "execution_count": null,
   "id": "b4c1a65a",
   "metadata": {},
   "outputs": [],
   "source": []
  },
  {
   "cell_type": "code",
   "execution_count": null,
   "id": "516390d7",
   "metadata": {},
   "outputs": [],
   "source": []
  },
  {
   "cell_type": "code",
   "execution_count": null,
   "id": "b34d5a6c",
   "metadata": {},
   "outputs": [],
   "source": []
  }
 ],
 "metadata": {
  "kernelspec": {
   "display_name": "Python 3",
   "language": "python",
   "name": "python3"
  },
  "language_info": {
   "codemirror_mode": {
    "name": "ipython",
    "version": 3
   },
   "file_extension": ".py",
   "mimetype": "text/x-python",
   "name": "python",
   "nbconvert_exporter": "python",
   "pygments_lexer": "ipython3",
   "version": "3.8.8"
  }
 },
 "nbformat": 4,
 "nbformat_minor": 5
}
